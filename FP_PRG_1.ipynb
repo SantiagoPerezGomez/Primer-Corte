{
  "nbformat": 4,
  "nbformat_minor": 0,
  "metadata": {
    "colab": {
      "provenance": [],
      "collapsed_sections": []
    },
    "kernelspec": {
      "name": "python3",
      "display_name": "Python 3"
    },
    "language_info": {
      "name": "python"
    }
  },
  "cells": [
    {
      "cell_type": "code",
      "execution_count": null,
      "metadata": {
        "id": "PlMb0tdHSsdB"
      },
      "outputs": [],
      "source": [
        "#Declaracion e inicializacion de varibles\n",
        "ver_int_numeroEstudiantes = 0\n",
        "cte_float_cantidadkilometros = 0.0"
      ]
    },
    {
      "cell_type": "code",
      "source": [
        "# Lecturas - Entradas  por teclado "
      ],
      "metadata": {
        "id": "zu_Eqj2DTJSy"
      },
      "execution_count": null,
      "outputs": []
    },
    {
      "cell_type": "code",
      "source": [
        "# Procesos"
      ],
      "metadata": {
        "id": "Kko6D7VoTSQ4"
      },
      "execution_count": null,
      "outputs": []
    },
    {
      "cell_type": "code",
      "source": [
        "# Salidas - Impresiones de resultado "
      ],
      "metadata": {
        "id": "dC_rpZkbTU_C"
      },
      "execution_count": null,
      "outputs": []
    }
  ]
}