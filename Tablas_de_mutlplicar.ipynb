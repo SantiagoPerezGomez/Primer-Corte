{
  "nbformat": 4,
  "nbformat_minor": 0,
  "metadata": {
    "colab": {
      "provenance": []
    },
    "kernelspec": {
      "name": "python3",
      "display_name": "Python 3"
    },
    "language_info": {
      "name": "python"
    }
  },
  "cells": [
    {
      "cell_type": "code",
      "execution_count": 1,
      "metadata": {
        "colab": {
          "base_uri": "https://localhost:8080/"
        },
        "id": "8l8BTXVCpFQ-",
        "outputId": "5ee63460-6855-4d51-c110-4830a2ed08b4"
      },
      "outputs": [
        {
          "output_type": "stream",
          "name": "stdout",
          "text": [
            "5 x 1 =  5\n",
            "5 x 2 =  10\n",
            "5 x 3 =  15\n",
            "5 x 4 =  20\n",
            "5 x 5 =  25\n",
            "5 x 6 =  30\n",
            "5 x 7 =  35\n",
            "5 x 8 =  40\n",
            "5 x 9 =  45\n",
            "5 x 10 =  50\n",
            "5 x 11 =  55\n",
            "5 x 12 =  60\n",
            "5 x 13 =  65\n",
            "5 x 14 =  70\n",
            "5 x 15 =  75\n"
          ]
        }
      ],
      "source": [
        "factor = 5 #factor deseado, en este caso, haremos la tabla del 5\n",
        "desde = 1 #límite inferior (incluido)\n",
        "hasta = 15 #límite superior (incluido también)\n",
        "\n",
        "for f in range(desde, hasta + 1):\n",
        "\tprint(f'{factor} x {f} =  {factor * f}')"
      ]
    }
  ]
}