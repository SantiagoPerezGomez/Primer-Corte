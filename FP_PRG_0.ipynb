{
  "nbformat": 4,
  "nbformat_minor": 0,
  "metadata": {
    "colab": {
      "provenance": [],
      "collapsed_sections": []
    },
    "kernelspec": {
      "name": "python3",
      "display_name": "Python 3"
    },
    "language_info": {
      "name": "python"
    }
  },
  "cells": [
    {
      "cell_type": "markdown",
      "source": [
        "Ejercicio 1:\n",
        "\n",
        "Dos Pueblos que distan 12 km estan unidos por una carretera recta.Un ciclista viaja de un pueblo al con otro con una velocidad constante de 10m/s. Calcula el tiempo que emplea\n",
        "\n",
        "Nombre del Programa\n",
        "\n",
        "Ejercicio 1\n",
        "\n",
        "Autores:\n",
        "\n",
        "Fecha \n",
        "\n",
        "Version"
      ],
      "metadata": {
        "id": "hkGY1J2kYlyL"
      }
    },
    {
      "cell_type": "code",
      "source": [
        "# Declaracion \n",
        "distanciaPueblos= 0 # Variable donde se captura la distancia"
      ],
      "metadata": {
        "id": "XpV5TLZ9aA9h"
      },
      "execution_count": null,
      "outputs": []
    },
    {
      "cell_type": "code",
      "source": [
        "\"\"\"Obtencion  de datos\"\"\"\n",
        "distanciaPueblos= int(input(\"¿Cual es la distancia en km entre pueblos \"));\n",
        "VelocidadCicla= int(input(\"¿Cual es la velocidad del en m/s? \"));"
      ],
      "metadata": {
        "colab": {
          "base_uri": "https://localhost:8080/"
        },
        "id": "TBmRNjgwZYbu",
        "outputId": "d62087db-0c3e-4982-d9e6-c6be1a4551e6"
      },
      "execution_count": null,
      "outputs": [
        {
          "name": "stdout",
          "output_type": "stream",
          "text": [
            "¿Cual es la distancia en km entre pueblos12\n",
            "¿Cual es la velocidad del en m/s?9\n"
          ]
        }
      ]
    },
    {
      "cell_type": "code",
      "source": [
        "\"\"\"Caculo tiempo\"\"\"\n",
        "distanciaPueblos=(distanciaPueblos*1000);\n",
        "tiempo=int((distanciaPueblos/VelocidadCicla)/60)"
      ],
      "metadata": {
        "id": "fYWn3EiJaa7H"
      },
      "execution_count": null,
      "outputs": []
    },
    {
      "cell_type": "code",
      "source": [
        "\"\"\"Impresion de Datos\"\"\"\n",
        "print(\"el tiempo empleado por el ciclista es {}\")"
      ],
      "metadata": {
        "id": "tgzchxgDbE5A"
      },
      "execution_count": null,
      "outputs": []
    }
  ]
}